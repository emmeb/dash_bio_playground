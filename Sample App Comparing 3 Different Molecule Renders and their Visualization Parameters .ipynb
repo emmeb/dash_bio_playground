{
 "cells": [
  {
   "cell_type": "markdown",
   "metadata": {},
   "source": [
    "# Sample App Comparing 3 Different Molecule Renders (speck , 3d mol, NGL)  and their Visualization Parameters   "
   ]
  },
  {
   "cell_type": "markdown",
   "metadata": {},
   "source": [
    "TODO: \n",
    "\n",
    "    1) Speck with M_protein.xyz or M_protein.pdb\n",
    "    2) Molecule3D with pdb files\n",
    "    3) Get all working on local and off URL files "
   ]
  },
  {
   "cell_type": "code",
   "execution_count": 1,
   "metadata": {},
   "outputs": [],
   "source": [
    "import plotly.express as px\n",
    "from jupyter_dash import JupyterDash\n",
    "import dash_core_components as dcc\n",
    "import dash_html_components as html\n",
    "from dash.dependencies import Input, Output\n",
    "import re"
   ]
  },
  {
   "cell_type": "markdown",
   "metadata": {},
   "source": [
    "## Speck \n",
    "- running with demo file "
   ]
  },
  {
   "cell_type": "code",
   "execution_count": 2,
   "metadata": {},
   "outputs": [
    {
     "data": {
      "text/html": [
       "\n",
       "        <iframe\n",
       "            width=\"100%\"\n",
       "            height=\"650\"\n",
       "            src=\"http://127.0.0.1:8050/\"\n",
       "            frameborder=\"0\"\n",
       "            allowfullscreen\n",
       "        ></iframe>\n",
       "        "
      ],
      "text/plain": [
       "<IPython.lib.display.IFrame at 0x7fdfa910c0a0>"
      ]
     },
     "metadata": {},
     "output_type": "display_data"
    }
   ],
   "source": [
    "import six.moves.urllib.request as urlreq\n",
    "from six import PY3\n",
    "\n",
    "import dash\n",
    "import dash_bio as dashbio\n",
    "import dash_html_components as html\n",
    "import dash_core_components as dcc\n",
    "from dash_bio_utils import xyz_reader\n",
    "\n",
    "\n",
    "external_stylesheets = ['https://codepen.io/chriddyp/pen/bWLwgP.css']\n",
    "\n",
    "app = JupyterDash(__name__, external_stylesheets=external_stylesheets)\n",
    "\n",
    "data = urlreq.urlopen(\n",
    "    'https://raw.githubusercontent.com/plotly/dash-bio-docs-files/master/' +\n",
    "    'speck_methane.xyz'\n",
    ").read()\n",
    "\n",
    "\n",
    "if PY3:\n",
    "    data = data.decode('utf-8')\n",
    "\n",
    "data = xyz_reader.read_xyz(datapath_or_datastring=data, is_datafile=False)\n",
    "\n",
    "app.layout = html.Div([\n",
    "    dcc.Dropdown(\n",
    "        id='speck-preset-views',\n",
    "        options=[\n",
    "            {'label': 'Default', 'value': 'default'},\n",
    "            {'label': 'Ball and stick', 'value': 'stickball'}\n",
    "        ],\n",
    "        value='default'\n",
    "    ),\n",
    "    dashbio.Speck(\n",
    "        id='my-speck',\n",
    "        data=data\n",
    "    ),\n",
    "])\n",
    "\n",
    "# Define callback to update graph \n",
    "@app.callback(\n",
    "    dash.dependencies.Output('my-speck', 'presetView'),\n",
    "    [dash.dependencies.Input('speck-preset-views', 'value')]\n",
    ")\n",
    "def update_preset_view(preset_name):\n",
    "    return preset_name\n",
    "\n",
    "#Run app and display results inline in the notebook \n",
    "app.run_server(\"inline\")"
   ]
  },
  {
   "cell_type": "markdown",
   "metadata": {},
   "source": [
    "## Speck \n",
    "- running with PDB file "
   ]
  },
  {
   "cell_type": "code",
   "execution_count": 3,
   "metadata": {},
   "outputs": [
    {
     "data": {
      "text/html": [
       "\n",
       "        <iframe\n",
       "            width=\"100%\"\n",
       "            height=\"650\"\n",
       "            src=\"http://127.0.0.1:8050/\"\n",
       "            frameborder=\"0\"\n",
       "            allowfullscreen\n",
       "        ></iframe>\n",
       "        "
      ],
      "text/plain": [
       "<IPython.lib.display.IFrame at 0x7fdfa91c1850>"
      ]
     },
     "metadata": {},
     "output_type": "display_data"
    }
   ],
   "source": [
    "import six.moves.urllib.request as urlreq\n",
    "from six import PY3\n",
    "\n",
    "import dash\n",
    "import dash_bio as dashbio\n",
    "import dash_html_components as html\n",
    "import dash_core_components as dcc\n",
    "from dash_bio_utils import xyz_reader\n",
    "\n",
    "\n",
    "external_stylesheets = ['https://codepen.io/chriddyp/pen/bWLwgP.css']\n",
    "\n",
    "data = urlreq.urlopen(\n",
    "    'https://raw.githubusercontent.com/plotly/dash-bio-docs-files/master/' +\n",
    "    'speck_methane.xyz'\n",
    ").read()\n",
    "\n",
    "if PY3:\n",
    "    data = data.decode('utf-8')\n",
    "\n",
    "data = xyz_reader.read_xyz(datapath_or_datastring=data, is_datafile=False)\n",
    "\n",
    "app.layout = html.Div([\n",
    "    dcc.Dropdown(\n",
    "        id='speck-preset-views',\n",
    "        options=[\n",
    "            {'label': 'Default', 'value': 'default'},\n",
    "            {'label': 'Ball and stick', 'value': 'stickball'}\n",
    "        ],\n",
    "        value='default'\n",
    "    ),\n",
    "    dashbio.Speck(\n",
    "        id='my-speck',\n",
    "        data=data\n",
    "    ),\n",
    "])\n",
    "\n",
    "\n",
    "# Define callback to update graph \n",
    "@app.callback(\n",
    "    dash.dependencies.Output('my-speck', 'presetView'),\n",
    "    [dash.dependencies.Input('speck-preset-views', 'value')]\n",
    ")\n",
    "def update_preset_view(preset_name):\n",
    "    return preset_name\n",
    "\n",
    "#Run app and display results inline in the notebook \n",
    "app.run_server(mode=\"inline\")\n",
    "# app.run_server(debug=True, port=8051)"
   ]
  },
  {
   "cell_type": "code",
   "execution_count": 4,
   "metadata": {},
   "outputs": [],
   "source": [
    "# data_path = '/Users/Emilie/Desktop/structures_4_3_2020/M_protein.xyz'\n",
    "# data = open(data_path, 'r')\n",
    "# data = data.readlines()[2:]\n",
    "# data\n",
    "\n",
    "# atoms = [] \n",
    "# for line in data: \n",
    "#     r = re.search(\n",
    "#                 r'^\\s*([\\w]+)\\s+([\\w\\.\\+\\-]+)\\s+([\\w\\.\\+\\-]+)\\s+([\\w\\.\\+\\-]+)\\s*',\n",
    "#                 line)\n",
    "\n",
    "#     atom = {\n",
    "#         'symbol': r.group(1),\n",
    "#         'x': float(r.group(2)),\n",
    "#         'y': float(r.group(3)),\n",
    "#         'z': float(r.group(4))\n",
    "#     }\n",
    "    \n",
    "#     atoms.append(atom)\n"
   ]
  },
  {
   "cell_type": "markdown",
   "metadata": {},
   "source": [
    "## Molecule3dViewer"
   ]
  },
  {
   "cell_type": "code",
   "execution_count": 5,
   "metadata": {},
   "outputs": [
    {
     "data": {
      "text/html": [
       "\n",
       "        <iframe\n",
       "            width=\"100%\"\n",
       "            height=\"650\"\n",
       "            src=\"http://127.0.0.1:8050/\"\n",
       "            frameborder=\"0\"\n",
       "            allowfullscreen\n",
       "        ></iframe>\n",
       "        "
      ],
      "text/plain": [
       "<IPython.lib.display.IFrame at 0x7fdfa91b46d0>"
      ]
     },
     "metadata": {},
     "output_type": "display_data"
    }
   ],
   "source": [
    "import json\n",
    "import six.moves.urllib.request as urlreq\n",
    "from six import PY3\n",
    "\n",
    "import dash\n",
    "import dash_bio as dashbio\n",
    "import dash_html_components as html\n",
    "\n",
    "\n",
    "external_stylesheets = ['https://codepen.io/chriddyp/pen/bWLwgP.css']\n",
    "\n",
    "app = JupyterDash(__name__, external_stylesheets=external_stylesheets)\n",
    "\n",
    "model_data = urlreq.urlopen(\n",
    "    'https://raw.githubusercontent.com/plotly/dash-bio-docs-files/master/' +\n",
    "    'mol3d/model_data.js'\n",
    ").read()\n",
    "styles_data = urlreq.urlopen(\n",
    "    'https://raw.githubusercontent.com/plotly/dash-bio-docs-files/master/' +\n",
    "    'mol3d/styles_data.js'\n",
    ").read()\n",
    "\n",
    "if PY3:\n",
    "    model_data = model_data.decode('utf-8')\n",
    "    styles_data = styles_data.decode('utf-8')\n",
    "\n",
    "model_data = json.loads(model_data)\n",
    "styles_data = json.loads(styles_data)\n",
    "\n",
    "app.layout = html.Div([\n",
    "    dashbio.Molecule3dViewer(\n",
    "        id='my-dashbio-molecule3d',\n",
    "        styles=styles_data,\n",
    "        modelData=model_data\n",
    "    ),\n",
    "    \"Selection data\",\n",
    "    html.Hr(),\n",
    "    html.Div(id='molecule3d-output')\n",
    "])\n",
    "\n",
    "\n",
    "@app.callback(\n",
    "    dash.dependencies.Output('molecule3d-output', 'children'),\n",
    "    [dash.dependencies.Input('my-dashbio-molecule3d', 'selectedAtomIds')]\n",
    ")\n",
    "def show_selected_atoms(atom_ids):\n",
    "    if atom_ids is None or len(atom_ids) == 0:\n",
    "        return 'No atom has been selected. Click somewhere on the molecular \\\n",
    "        structure to select an atom.'\n",
    "    return [html.Div([\n",
    "        html.Div('Element: {}'.format(model_data['atoms'][atm]['element'])),\n",
    "        html.Div('Chain: {}'.format(model_data['atoms'][atm]['chain'])),\n",
    "        html.Div('Residue name: {}'.format(model_data['atoms'][atm]['residue_name'])),\n",
    "        html.Br()\n",
    "    ]) for atm in atom_ids]\n",
    "\n",
    "\n",
    "app.run_server(mode=\"inline\")"
   ]
  },
  {
   "cell_type": "markdown",
   "metadata": {},
   "source": [
    "Molecule 3D working with PDB file "
   ]
  },
  {
   "cell_type": "code",
   "execution_count": 6,
   "metadata": {},
   "outputs": [],
   "source": [
    "data_path = '/Users/Emilie/Desktop/structures_4_3_2020/M_protein.pdb'"
   ]
  },
  {
   "cell_type": "code",
   "execution_count": 7,
   "metadata": {},
   "outputs": [
    {
     "ename": "TypeError",
     "evalue": "create_style() missing 2 required positional arguments: 'style' and 'mol_color'",
     "output_type": "error",
     "traceback": [
      "\u001b[0;31m---------------------------------------------------------------------------\u001b[0m",
      "\u001b[0;31mTypeError\u001b[0m                                 Traceback (most recent call last)",
      "\u001b[0;32m<ipython-input-7-159a1a87365b>\u001b[0m in \u001b[0;36m<module>\u001b[0;34m\u001b[0m\n\u001b[1;32m      1\u001b[0m \u001b[0;32mfrom\u001b[0m \u001b[0mdash_bio_utils\u001b[0m \u001b[0;32mimport\u001b[0m \u001b[0mpdb_parser\u001b[0m \u001b[0;32mas\u001b[0m \u001b[0mparser\u001b[0m\u001b[0;34m,\u001b[0m \u001b[0mstyles_parser\u001b[0m \u001b[0;32mas\u001b[0m \u001b[0msparser\u001b[0m\u001b[0;34m\u001b[0m\u001b[0;34m\u001b[0m\u001b[0m\n\u001b[1;32m      2\u001b[0m \u001b[0mmodel_data\u001b[0m \u001b[0;34m=\u001b[0m \u001b[0mparser\u001b[0m\u001b[0;34m.\u001b[0m\u001b[0mcreate_data\u001b[0m\u001b[0;34m(\u001b[0m\u001b[0mdata_path\u001b[0m\u001b[0;34m)\u001b[0m\u001b[0;34m\u001b[0m\u001b[0;34m\u001b[0m\u001b[0m\n\u001b[0;32m----> 3\u001b[0;31m \u001b[0mstyle_data\u001b[0m \u001b[0;34m=\u001b[0m \u001b[0msparser\u001b[0m\u001b[0;34m.\u001b[0m\u001b[0mcreate_style\u001b[0m\u001b[0;34m(\u001b[0m\u001b[0mdata_path\u001b[0m\u001b[0;34m)\u001b[0m\u001b[0;34m\u001b[0m\u001b[0;34m\u001b[0m\u001b[0m\n\u001b[0m\u001b[1;32m      4\u001b[0m \u001b[0mstyle_data\u001b[0m\u001b[0;34m\u001b[0m\u001b[0;34m\u001b[0m\u001b[0m\n",
      "\u001b[0;31mTypeError\u001b[0m: create_style() missing 2 required positional arguments: 'style' and 'mol_color'"
     ]
    }
   ],
   "source": [
    "from dash_bio_utils import pdb_parser as parser, styles_parser as sparser\n",
    "model_data = parser.create_data(data_path)\n",
    "style_data = sparser.create_style(data_path)\n",
    "style_data"
   ]
  },
  {
   "cell_type": "markdown",
   "metadata": {},
   "source": [
    "## NglMoleculeViewer\n",
    "- NGL Molecule Viewer is a visualizer that allows you to view biomolecules in multiple representations. Supported formats: .pdb(.gz) / .cif(.gz)\n",
    "- You can show multiple structures and (or) specify a chain/ residues range / highlight Cα of chosen residues or single atoms.\n",
    "- Find out more: https://dash-gallery.plotly.host/dash-ngl-molecule-viewer/\n",
    "- Github: https://github.com/plotly/dash-bio/blob/master/dash_bio/Molecule3dViewer.py\n",
    "- Data for this example; pdb files from: https://deepmind.com/research/open-source/computational-predictions-of-protein-structures-associated-with-COVID-19\n",
    "- If you use local data, be sure to change `local=True` on data_list"
   ]
  },
  {
   "cell_type": "code",
   "execution_count": null,
   "metadata": {},
   "outputs": [],
   "source": [
    "import dash\n",
    "import dash_bio as dashbio\n",
    "import dash_core_components as dcc\n",
    "import dash_html_components as html\n",
    "from dash.dependencies import Input, Output\n",
    "from dash.exceptions import PreventUpdate\n",
    "\n",
    "import dash_bio_utils.ngl_parser as ngl_parser\n",
    "\n",
    "external_stylesheets = ['https://codepen.io/chriddyp/pen/bWLwgP.css']\n",
    "\n",
    "app = JupyterDash(__name__, external_stylesheets=external_stylesheets)\n",
    "\n",
    "data_path = '/Users/Emilie/Desktop/structures_4_3_2020/' #(note; if data_path is local, change data_list, local=True)\n",
    "#data_path = \"https://raw.githubusercontent.com/emmeb/dash_bio_playground/tree/master/structures_4_3_2020/\"\n",
    "\n",
    "# PDB examples\n",
    "dropdown_options = [\n",
    "    {\"label\": \"M_protein\", \"value\": \"M_protein\"},\n",
    "    {\"label\": \"nsp2\", \"value\": \"nsp2\"},\n",
    "    {\"label\": \"nsp4\", \"value\": \"nsp4\"},\n",
    "    {\"label\": \"nsp6\", \"value\": \"nsp6\"},\n",
    "    {\"label\": \"PL_PRO_C_terminal\", \"value\": \"PL_PRO_C_terminal\"}, \n",
    "    {\"label\": \"Protein_3a\", \"value\": \"Protein_3a\"}\n",
    "]\n",
    "\n",
    "app.layout = html.Div([\n",
    "    dcc.Markdown('''\n",
    "    ### NglMoleculeViewer Controls\n",
    "\n",
    "    * Rotate Stage: Left-click on the viewer and move the mouse to rotate the stage.\n",
    "    * Zoom: Use the mouse scroll-wheel to zoom in and out of the viewer.\n",
    "    * Pan: Right click on the viewer to pan the stage.\n",
    "    * Individual Molecule Interaction: Left click on the molecule to interact with, then hold the \n",
    "    `CTRL` key and use right and left click mouse buttons to rotate and pan individual molecules.\n",
    "    '''),\n",
    "    dcc.Dropdown(id=\"default-dropdown\", options=dropdown_options, placeholder=\"Select a molecule\",\n",
    "                 value = \"M_protein\"),\n",
    "    dashbio.NglMoleculeViewer(id=\"default-ngl\"),\n",
    "])\n",
    "\n",
    "\n",
    "@app.callback(\n",
    "    [Output(\"default-ngl\", 'data'),\n",
    "     Output(\"default-ngl\", \"molStyles\")],\n",
    "    [Input(\"default-dropdown\", \"value\")]\n",
    ")\n",
    "def return_molecule(value):\n",
    "    if (value is None):\n",
    "        raise PreventUpdate\n",
    "\n",
    "    molstyles_dict = {\n",
    "        \"representations\": [\"cartoon\", \"axes+box\"],\n",
    "        \"chosenAtomsColor\": \"white\",\n",
    "        \"chosenAtomsRadius\": 1,\n",
    "        \"molSpacingXaxis\": 100,\n",
    "    }\n",
    "\n",
    "    data_list = [ngl_parser.get_data(data_path=data_path, pdb_id=value, color='red',\n",
    "                                     reset_view=True, local=True)]\n",
    "\n",
    "    return data_list, molstyles_dict\n",
    "\n",
    "if __name__ == '__main__':\n",
    "     app.run_server(mode='inline')\n",
    "\n",
    "\n"
   ]
  },
  {
   "cell_type": "code",
   "execution_count": null,
   "metadata": {},
   "outputs": [],
   "source": []
  },
  {
   "cell_type": "code",
   "execution_count": null,
   "metadata": {},
   "outputs": [],
   "source": []
  }
 ],
 "metadata": {
  "kernelspec": {
   "display_name": "Python 3",
   "language": "python",
   "name": "python3"
  },
  "language_info": {
   "codemirror_mode": {
    "name": "ipython",
    "version": 3
   },
   "file_extension": ".py",
   "mimetype": "text/x-python",
   "name": "python",
   "nbconvert_exporter": "python",
   "pygments_lexer": "ipython3",
   "version": "3.8.5"
  }
 },
 "nbformat": 4,
 "nbformat_minor": 4
}
