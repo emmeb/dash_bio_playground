{
 "cells": [
  {
   "cell_type": "markdown",
   "metadata": {},
   "source": [
    "# Visualizing Molecular Data"
   ]
  },
  {
   "cell_type": "code",
   "execution_count": 1,
   "metadata": {},
   "outputs": [],
   "source": [
    "import babel\n"
   ]
  },
  {
   "cell_type": "code",
   "execution_count": 2,
   "metadata": {},
   "outputs": [
    {
     "ename": "ImportError",
     "evalue": "cannot import name 'openbabel' from 'babel' (/Users/Emilie/opt/anaconda3/lib/python3.8/site-packages/babel/__init__.py)",
     "output_type": "error",
     "traceback": [
      "\u001b[0;31m---------------------------------------------------------------------------\u001b[0m",
      "\u001b[0;31mImportError\u001b[0m                               Traceback (most recent call last)",
      "\u001b[0;32m<ipython-input-2-b7d96e2d3fad>\u001b[0m in \u001b[0;36m<module>\u001b[0;34m\u001b[0m\n\u001b[0;32m----> 1\u001b[0;31m \u001b[0;32mfrom\u001b[0m \u001b[0mbabel\u001b[0m \u001b[0;32mimport\u001b[0m \u001b[0mopenbabel\u001b[0m\u001b[0;34m\u001b[0m\u001b[0;34m\u001b[0m\u001b[0m\n\u001b[0m",
      "\u001b[0;31mImportError\u001b[0m: cannot import name 'openbabel' from 'babel' (/Users/Emilie/opt/anaconda3/lib/python3.8/site-packages/babel/__init__.py)"
     ]
    }
   ],
   "source": [
    "from babel import openbabel"
   ]
  },
  {
   "cell_type": "code",
   "execution_count": 1,
   "metadata": {},
   "outputs": [],
   "source": [
    "# Importing jupyter and dash modules\n",
    "\n",
    "# import sys\n",
    "# !{sys.executable} -m pip install jupyter-dash\n",
    "# !{sys.executable} -m pip install dash-design-kit\n"
   ]
  },
  {
   "cell_type": "code",
   "execution_count": 2,
   "metadata": {},
   "outputs": [],
   "source": [
    "# dependencies needed to run plotly on Jupyter Notebook \n",
    "\n",
    "from jupyter_dash import JupyterDash\n",
    "import dash_core_components as dcc\n",
    "import dash_html_components as html\n",
    "from dash.dependencies import Input, Output\n"
   ]
  },
  {
   "cell_type": "markdown",
   "metadata": {},
   "source": [
    "TODO: \n",
    "1) need Dash Enterprise code for Molecular 2D viewer\n"
   ]
  },
  {
   "cell_type": "markdown",
   "metadata": {},
   "source": [
    "### Molecular 2D Viewer "
   ]
  },
  {
   "cell_type": "markdown",
   "metadata": {},
   "source": [
    "dash-design-kit is a commercial package distributed on instances of Dash Enterprise https://plotly.com/dash/.\n",
    "You have installed a non-functional stub version of the package\n",
    "from pypi.org instead of from a private Dash Enterprise instance.\n",
    "If you are a Dash Enterprise customer, please ensure you've\n",
    "installed dash-design-kit with the `--extra-index-url` argument,\n",
    "either in your requirements.txt file or in the command line,\n",
    "so that the package is installed from Dash Enterprise's private,\n",
    "commercial package repository instead of from pypi.org.\n",
    "Visit the docs for your Dash Enterprise installation at:\n",
    "https://<your-dash-enterprise-instance>/Docs\n",
    "for details."
   ]
  },
  {
   "cell_type": "code",
   "execution_count": 3,
   "metadata": {},
   "outputs": [],
   "source": [
    "# import dash_design_kit as ddk\n",
    "# import json\n",
    "# import six.moves.urllib.request as urlreq\n",
    "\n",
    "# import dash_bio as dashbio\n",
    "\n",
    "# model_data = urlreq.urlopen('https://raw.githubusercontent.com/plotly/dash-bio-docs-files/master/mol2d_buckminsterfullerene.json').read()\n",
    "\n",
    "# model_data = json.loads(model_data)\n",
    "# for atom in model_data['nodes']:\n",
    "#     atom.update(atom='N')\n",
    "# for bond in model_data['links']:\n",
    "#     bond.update(distance=50.0, strength=0.5)\n",
    "\n",
    "# dashbio.Molecule2dViewer(\n",
    "#     id='molecule2d-modeldata',\n",
    "#     modelData=model_data\n",
    "# )  "
   ]
  },
  {
   "cell_type": "markdown",
   "metadata": {},
   "source": [
    "### Molecular 3D Viewer "
   ]
  },
  {
   "cell_type": "code",
   "execution_count": 4,
   "metadata": {},
   "outputs": [
    {
     "data": {
      "text/html": [
       "\n",
       "        <iframe\n",
       "            width=\"100%\"\n",
       "            height=\"650\"\n",
       "            src=\"http://127.0.0.1:8050/\"\n",
       "            frameborder=\"0\"\n",
       "            allowfullscreen\n",
       "        ></iframe>\n",
       "        "
      ],
      "text/plain": [
       "<IPython.lib.display.IFrame at 0x7f94915d9760>"
      ]
     },
     "metadata": {},
     "output_type": "display_data"
    }
   ],
   "source": [
    "import json\n",
    "import six.moves.urllib.request as urlreq\n",
    "from six import PY3\n",
    "\n",
    "import dash\n",
    "import dash_bio as dashbio\n",
    "import dash_html_components as html\n",
    "\n",
    "\n",
    "external_stylesheets = ['https://codepen.io/chriddyp/pen/bWLwgP.css']\n",
    "\n",
    "app = JupyterDash(__name__, external_stylesheets=external_stylesheets)\n",
    "\n",
    "model_data = urlreq.urlopen(\n",
    "    'https://raw.githubusercontent.com/plotly/dash-bio-docs-files/master/' +\n",
    "    'mol3d/model_data.js'\n",
    ").read()\n",
    "styles_data = urlreq.urlopen(\n",
    "    'https://raw.githubusercontent.com/plotly/dash-bio-docs-files/master/' +\n",
    "    'mol3d/styles_data.js'\n",
    ").read()\n",
    "\n",
    "if PY3:\n",
    "    model_data = model_data.decode('utf-8')\n",
    "    styles_data = styles_data.decode('utf-8')\n",
    "\n",
    "model_data = json.loads(model_data)\n",
    "styles_data = json.loads(styles_data)\n",
    "\n",
    "app.layout = html.Div([\n",
    "    dashbio.Molecule3dViewer(\n",
    "        id='my-dashbio-molecule3d',\n",
    "        styles=styles_data,\n",
    "        modelData=model_data\n",
    "    ),\n",
    "    \"Selection data\",\n",
    "    html.Hr(),\n",
    "    html.Div(id='molecule3d-output')\n",
    "])\n",
    "\n",
    "\n",
    "@app.callback(\n",
    "    dash.dependencies.Output('molecule3d-output', 'children'),\n",
    "    [dash.dependencies.Input('my-dashbio-molecule3d', 'selectedAtomIds')]\n",
    ")\n",
    "def show_selected_atoms(atom_ids):\n",
    "    if atom_ids is None or len(atom_ids) == 0:\n",
    "        return 'No atom has been selected. Click somewhere on the molecular \\\n",
    "        structure to select an atom.'\n",
    "    return [html.Div([\n",
    "        html.Div('Element: {}'.format(model_data['atoms'][atm]['element'])),\n",
    "        html.Div('Chain: {}'.format(model_data['atoms'][atm]['chain'])),\n",
    "        html.Div('Residue name: {}'.format(model_data['atoms'][atm]['residue_name'])),\n",
    "        html.Br()\n",
    "    ]) for atm in atom_ids]\n",
    "\n",
    "\n",
    "app.run_server(mode=\"inline\")"
   ]
  },
  {
   "cell_type": "markdown",
   "metadata": {},
   "source": [
    "### NGL Molecular Viewer"
   ]
  },
  {
   "cell_type": "markdown",
   "metadata": {},
   "source": [
    "NGL Molecule Viewer is a visualizer that allows you to view biomolecules in multiple representations.\n",
    "Supported formats: .pdb(.gz) / .cif(.gz)\n",
    "\n",
    "You can show multiple structures and (or) specify a chain/ residues range / highlight Cα of chosen residues or single atoms.\n",
    "\n",
    "Find out more: https://dash-gallery.plotly.host/dash-ngl-molecule-viewer/\n",
    "\n",
    "Github: https://github.com/plotly/dash-bio/blob/master/dash_bio/Molecule3dViewer.py \n",
    "\n",
    "Data for this example; pdb files from: \n",
    "    https://deepmind.com/research/open-source/computational-predictions-of-protein-structures-associated-with-COVID-19 \n"
   ]
  },
  {
   "cell_type": "code",
   "execution_count": 5,
   "metadata": {},
   "outputs": [
    {
     "data": {
      "text/html": [
       "\n",
       "        <iframe\n",
       "            width=\"100%\"\n",
       "            height=\"650\"\n",
       "            src=\"http://127.0.0.1:8050/\"\n",
       "            frameborder=\"0\"\n",
       "            allowfullscreen\n",
       "        ></iframe>\n",
       "        "
      ],
      "text/plain": [
       "<IPython.lib.display.IFrame at 0x7f94915ed040>"
      ]
     },
     "metadata": {},
     "output_type": "display_data"
    }
   ],
   "source": [
    "import dash\n",
    "import dash_bio as dashbio\n",
    "import dash_core_components as dcc\n",
    "import dash_html_components as html\n",
    "from dash.dependencies import Input, Output\n",
    "from dash.exceptions import PreventUpdate\n",
    "\n",
    "import dash_bio_utils.ngl_parser as ngl_parser\n",
    "\n",
    "external_stylesheets = ['https://codepen.io/chriddyp/pen/bWLwgP.css']\n",
    "\n",
    "app = JupyterDash(__name__, external_stylesheets=external_stylesheets)\n",
    "\n",
    "\n",
    "data_path = '/Users/Emilie/Desktop/structures_4_3_2020/' #(note; if data_path is local, change data_list, local=True)\n",
    "\n",
    "\n",
    "# PDB examples in data path \n",
    "dropdown_options = [\n",
    "    {\"label\": \"M_protein\", \"value\": \"M_protein\"},\n",
    "    {\"label\": \"nsp2\", \"value\": \"nsp2\"},\n",
    "    {\"label\": \"nsp4\", \"value\": \"nsp4\"},\n",
    "    {\"label\": \"nsp6\", \"value\": \"nsp6\"},\n",
    "    {\"label\": \"PL_PRO_C_terminal\", \"value\": \"PL_PRO_C_terminal\"}, \n",
    "    {\"label\": \"Protein_3a\", \"value\": \"Protein_3a\"}\n",
    "]\n",
    "\n",
    "app.layout = html.Div([\n",
    "    dcc.Markdown('''\n",
    "    ### NglMoleculeViewer Controls\n",
    "\n",
    "    * Rotate Stage: Left-click on the viewer and move the mouse to rotate the stage.\n",
    "    * Zoom: Use the mouse scroll-wheel to zoom in and out of the viewer.\n",
    "    * Pan: Right click on the viewer to pan the stage.\n",
    "    * Individual Molecule Interaction: Left click on the molecule to interact with, then hold the \n",
    "    `CTRL` key and use right and left click mouse buttons to rotate and pan individual molecules.\n",
    "    '''),\n",
    "    dcc.Dropdown(id=\"default-dropdown\", options=dropdown_options, placeholder=\"Select a molecule\",\n",
    "                 value = \"M_protein\"),\n",
    "    dashbio.NglMoleculeViewer(id=\"default-ngl\"),\n",
    "])\n",
    "\n",
    "\n",
    "@app.callback(\n",
    "    [Output(\"default-ngl\", 'data'),\n",
    "     Output(\"default-ngl\", \"molStyles\")],\n",
    "    [Input(\"default-dropdown\", \"value\")]\n",
    ")\n",
    "def return_molecule(value):\n",
    "    if (value is None):\n",
    "        raise PreventUpdate\n",
    "\n",
    "    molstyles_dict = {\n",
    "        \"representations\": [\"cartoon\", \"axes+box\"],\n",
    "        \"chosenAtomsColor\": \"white\",\n",
    "        \"chosenAtomsRadius\": 1,\n",
    "        \"molSpacingXaxis\": 100,\n",
    "    }\n",
    "\n",
    "    data_list = [ngl_parser.get_data(data_path=data_path, pdb_id=value, color='red',\n",
    "                                     reset_view=True, local=True)]\n",
    "\n",
    "    return data_list, molstyles_dict\n",
    "\n",
    "if __name__ == '__main__':\n",
    "    app.run_server(mode='inline')"
   ]
  },
  {
   "cell_type": "code",
   "execution_count": null,
   "metadata": {},
   "outputs": [],
   "source": []
  },
  {
   "cell_type": "code",
   "execution_count": null,
   "metadata": {},
   "outputs": [],
   "source": []
  }
 ],
 "metadata": {
  "kernelspec": {
   "display_name": "Python 3",
   "language": "python",
   "name": "python3"
  },
  "language_info": {
   "codemirror_mode": {
    "name": "ipython",
    "version": 3
   },
   "file_extension": ".py",
   "mimetype": "text/x-python",
   "name": "python",
   "nbconvert_exporter": "python",
   "pygments_lexer": "ipython3",
   "version": "3.8.5"
  }
 },
 "nbformat": 4,
 "nbformat_minor": 4
}
