{
 "cells": [
  {
   "cell_type": "markdown",
   "metadata": {},
   "source": [
    "# Visualizing COVID genome: https://www.ncbi.nlm.nih.gov/nuccore/NC_045512.2?report=fasta  \n",
    "        "
   ]
  },
  {
   "cell_type": "code",
   "execution_count": 1,
   "metadata": {},
   "outputs": [],
   "source": [
    "# Alignment chart: https://dash.plotly.com/dash-bio/alignmentchart \n",
    "# Sequence viewer: https://dash.plotly.com/dash-bio/sequenceviewer "
   ]
  },
  {
   "cell_type": "code",
   "execution_count": 2,
   "metadata": {},
   "outputs": [],
   "source": [
    "import plotly.express as px\n",
    "from jupyter_dash import JupyterDash\n",
    "import dash_core_components as dcc\n",
    "import dash_html_components as html\n",
    "from dash.dependencies import Input, Output\n",
    "import re"
   ]
  },
  {
   "cell_type": "markdown",
   "metadata": {},
   "source": [
    "# Alignment chart:"
   ]
  },
  {
   "cell_type": "code",
   "execution_count": 5,
   "metadata": {},
   "outputs": [
    {
     "data": {
      "text/html": [
       "\n",
       "        <iframe\n",
       "            width=\"100%\"\n",
       "            height=\"650\"\n",
       "            src=\"http://127.0.0.1:8050/\"\n",
       "            frameborder=\"0\"\n",
       "            allowfullscreen\n",
       "        ></iframe>\n",
       "        "
      ],
      "text/plain": [
       "<IPython.lib.display.IFrame at 0x7f97df91d970>"
      ]
     },
     "metadata": {},
     "output_type": "display_data"
    }
   ],
   "source": [
    "import six.moves.urllib.request as urlreq\n",
    "from six import PY3\n",
    "\n",
    "import dash\n",
    "import dash_bio as dashbio\n",
    "import dash_html_components as html\n",
    "\n",
    "\n",
    "external_stylesheets = ['https://codepen.io/chriddyp/pen/bWLwgP.css']\n",
    "\n",
    "app = JupyterDash(__name__, external_stylesheets=external_stylesheets)\n",
    "\n",
    "\n",
    "data_path =  '/Users/Emilie/Desktop/Plotly/dash_bio_playground/covid.fasta'\n",
    "data= open(data_path).read()\n",
    "\n",
    "# data = urlreq.urlopen(\n",
    "#     'https://raw.githubusercontent.com/plotly/dash-bio-docs-files/master/' +\n",
    "#     'alignment_viewer_p53.fasta'\n",
    "# ).read()\n",
    "\n",
    "# if PY3:\n",
    "#     data = data.decode('utf-8')\n",
    "\n",
    "\n",
    "\n",
    "app.layout = html.Div([\n",
    "    dashbio.AlignmentChart(\n",
    "        id='my-alignment-viewer',\n",
    "        data=data\n",
    "    ),\n",
    "    html.Div(id='alignment-viewer-output')\n",
    "])\n",
    "\n",
    "\n",
    "@app.callback(\n",
    "    dash.dependencies.Output('alignment-viewer-output', 'children'),\n",
    "    [dash.dependencies.Input('my-alignment-viewer', 'eventDatum')]\n",
    ")\n",
    "def update_output(value):\n",
    "    if value is None:\n",
    "        return 'No data.'\n",
    "    return str(value)\n",
    "\n",
    "app.run_server(\"inline\")\n",
    "# if __name__ == '__main__':\n",
    "#     app.run_server(debug=True)"
   ]
  },
  {
   "cell_type": "markdown",
   "metadata": {},
   "source": [
    "# Sequence viewer"
   ]
  },
  {
   "cell_type": "code",
   "execution_count": 4,
   "metadata": {},
   "outputs": [
    {
     "data": {
      "text/html": [
       "\n",
       "        <iframe\n",
       "            width=\"100%\"\n",
       "            height=\"650\"\n",
       "            src=\"http://127.0.0.1:8050/\"\n",
       "            frameborder=\"0\"\n",
       "            allowfullscreen\n",
       "        ></iframe>\n",
       "        "
      ],
      "text/plain": [
       "<IPython.lib.display.IFrame at 0x7f97dfc1c580>"
      ]
     },
     "metadata": {},
     "output_type": "display_data"
    }
   ],
   "source": [
    "import six.moves.urllib.request as urlreq\n",
    "from six import PY3\n",
    "import dash\n",
    "import dash_bio as dashbio\n",
    "from dash_bio_utils import protein_reader\n",
    "import dash_html_components as html\n",
    "\n",
    "external_stylesheets = ['https://codepen.io/chriddyp/pen/bWLwgP.css']\n",
    "\n",
    "app = JupyterDash(__name__, external_stylesheets=external_stylesheets)\n",
    "\n",
    "\n",
    "data_path =  '/Users/Emilie/Desktop/Plotly/dash_bio_playground/covid.fasta'\n",
    "fasta_str= open(data_path).read() \n",
    "\n",
    "# fasta_str = urlreq.urlopen(\n",
    "#     'https://raw.githubusercontent.com/plotly/dash-bio-docs-files/master/' +\n",
    "#     'sequence_viewer_P01308.fasta'\n",
    "# ).read()\n",
    "# # \n",
    "# if PY3:\n",
    "#     fasta_str = fasta_str.decode('utf-8')\n",
    "\n",
    "seq = protein_reader.read_fasta(datapath_or_datastring=fasta_str, is_datafile=False)[0]['sequence']\n",
    "\n",
    "app.layout = html.Div([\n",
    "    dashbio.SequenceViewer(\n",
    "        id='my-sequence-viewer',\n",
    "        sequence=seq\n",
    "    ),\n",
    "    html.Div(id='sequence-viewer-output')\n",
    "])\n",
    "\n",
    "\n",
    "@app.callback(\n",
    "    dash.dependencies.Output('sequence-viewer-output', 'children'),\n",
    "    [dash.dependencies.Input('my-sequence-viewer', 'mouseSelection')]\n",
    ")\n",
    "def update_output(value):\n",
    "    if value is None or len(value) == 0:\n",
    "        return 'There is no mouse selection.'\n",
    "    return 'The mouse selection is {}.'.format(value['selection'])\n",
    "\n",
    "\n",
    "app.run_server(\"inline\")"
   ]
  },
  {
   "cell_type": "code",
   "execution_count": null,
   "metadata": {},
   "outputs": [],
   "source": []
  }
 ],
 "metadata": {
  "kernelspec": {
   "display_name": "Python 3",
   "language": "python",
   "name": "python3"
  },
  "language_info": {
   "codemirror_mode": {
    "name": "ipython",
    "version": 3
   },
   "file_extension": ".py",
   "mimetype": "text/x-python",
   "name": "python",
   "nbconvert_exporter": "python",
   "pygments_lexer": "ipython3",
   "version": "3.8.5"
  }
 },
 "nbformat": 4,
 "nbformat_minor": 4
}
